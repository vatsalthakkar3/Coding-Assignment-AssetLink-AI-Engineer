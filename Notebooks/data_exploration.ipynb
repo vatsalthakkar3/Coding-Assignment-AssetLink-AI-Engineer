{
 "cells": [
  {
   "cell_type": "code",
   "execution_count": 11,
   "metadata": {},
   "outputs": [],
   "source": [
    "import pandas as pd\n",
    "from IPython.display import Markdown, HTML, display"
   ]
  },
  {
   "cell_type": "code",
   "execution_count": 12,
   "metadata": {},
   "outputs": [
    {
     "name": "stderr",
     "output_type": "stream",
     "text": [
      "/var/folders/mt/23v752753ggb8fbdcw2xjcn40000gn/T/ipykernel_15352/470343433.py:1: DtypeWarning: Columns (18,64) have mixed types. Specify dtype option on import or set low_memory=False.\n",
      "  df = pd.read_csv(\"../AdvizorPro_Person_04.24.2024-1.csv\")\n"
     ]
    }
   ],
   "source": [
    "df = pd.read_csv(\"../AdvizorPro_Person_04.24.2024-1.csv\")"
   ]
  },
  {
   "cell_type": "code",
   "execution_count": 15,
   "metadata": {},
   "outputs": [
    {
     "name": "stdout",
     "output_type": "stream",
     "text": [
      "<class 'pandas.core.frame.DataFrame'>\n",
      "RangeIndex: 10000 entries, 0 to 9999\n",
      "Data columns (total 82 columns):\n",
      " #   Column                              Non-Null Count  Dtype  \n",
      "---  ------                              --------------  -----  \n",
      " 0   CRD                                 10000 non-null  int64  \n",
      " 1   NPN                                 0 non-null      float64\n",
      " 2   First Name                          10000 non-null  object \n",
      " 3   Middle Name                         9455 non-null   object \n",
      " 4   Last Name                           10000 non-null  object \n",
      " 5   Other Names                         5156 non-null   object \n",
      " 6   Team                                0 non-null      float64\n",
      " 7   Broker-Dealer                       7225 non-null   object \n",
      " 8   Broker-Dealer CRD                   7225 non-null   object \n",
      " 9   Years with Current BD               7225 non-null   object \n",
      " 10  Current BD Start Date               7225 non-null   object \n",
      " 11  RIA                                 9965 non-null   object \n",
      " 12  RIA CRD                             9965 non-null   object \n",
      " 13  Years with Current RIA              9965 non-null   object \n",
      " 14  Current RIA State Date              9965 non-null   object \n",
      " 15  Address                             9180 non-null   object \n",
      " 16  City                                10000 non-null  object \n",
      " 17  State                               9995 non-null   object \n",
      " 18  Zip                                 9179 non-null   object \n",
      " 19  Metro Area                          9051 non-null   object \n",
      " 20  Licenses & Exams                    9180 non-null   object \n",
      " 21  Title                               8610 non-null   object \n",
      " 22  Designations                        2776 non-null   object \n",
      " 23  Phone                               7388 non-null   object \n",
      " 24  Phone - Type                        6981 non-null   object \n",
      " 25  LinkedIn                            7402 non-null   object \n",
      " 26  Email 1                             9996 non-null   object \n",
      " 27  Email 2                             986 non-null    object \n",
      " 28  Email 3                             26 non-null     object \n",
      " 29  Personal Email                      655 non-null    object \n",
      " 30  Bio                                 4076 non-null   object \n",
      " 31  Years of Experience                 10000 non-null  int64  \n",
      " 32  Est. Age                            3456 non-null   float64\n",
      " 33  Previous Broker Dealer              8169 non-null   object \n",
      " 34  Previous RIA                        8070 non-null   object \n",
      " 35  Gender                              9591 non-null   object \n",
      " 36  Team ID                             10000 non-null  int64  \n",
      " 37  Person Tag - Role                   0 non-null      float64\n",
      " 38  Person Tag - Family                 1183 non-null   object \n",
      " 39  Person Tag - Hobbies                1369 non-null   object \n",
      " 40  Person Tag - Expertise              0 non-null      float64\n",
      " 41  Person Tag - Services               981 non-null    object \n",
      " 42  Person Tag - Investments            0 non-null      float64\n",
      " 43  Person Tag - Sports Teams           28 non-null     object \n",
      " 44  Person Tag - School                 1467 non-null   object \n",
      " 45  Person Tag - Greek Life             12 non-null     object \n",
      " 46  Person Tag - Military Status        147 non-null    object \n",
      " 47  Person Tag - Faith Based Investing  23 non-null     object \n",
      " 48  Firm Tag - Platform                 8617 non-null   object \n",
      " 49  Firm Tag - Technology               8861 non-null   object \n",
      " 50  Firm Tag - Services                 10000 non-null  object \n",
      " 51  Firm Tag - Investments              7219 non-null   object \n",
      " 52  Firm Tag - Custodian                9882 non-null   object \n",
      " 53  Firm Tag - Clients                  0 non-null      float64\n",
      " 54  Firm Tag - CRM                      5798 non-null   object \n",
      " 55  Notes                               0 non-null      float64\n",
      " 56  Profile                             10000 non-null  object \n",
      " 57  SEC Link                            9968 non-null   object \n",
      " 58  FINRA Link                          7225 non-null   object \n",
      " 59  Firm Company Name                   10000 non-null  object \n",
      " 60  Firm Type                           9966 non-null   object \n",
      " 61  Firm Address                        9732 non-null   object \n",
      " 62  Firm City                           10000 non-null  object \n",
      " 63  Firm State                          9998 non-null   object \n",
      " 64  Firm Zip                            9731 non-null   object \n",
      " 65  Firm Phone                          9498 non-null   object \n",
      " 66  Firm AUM                            10000 non-null  int64  \n",
      " 67  Firm Total Accounts                 10000 non-null  int64  \n",
      " 68  Firm Custodians                     9879 non-null   object \n",
      " 69  Firm Total Employees                9994 non-null   float64\n",
      " 70  Firm RIA Reps                       10000 non-null  int64  \n",
      " 71  Firm BD Reps                        9994 non-null   float64\n",
      " 72  Firm Form 13F                       10000 non-null  object \n",
      " 73  Lines                               0 non-null      float64\n",
      " 74  Carrier                             0 non-null      float64\n",
      " 75  Company                             0 non-null      float64\n",
      " 76  Initial Appointment Date            0 non-null      float64\n",
      " 77  Captive                             0 non-null      float64\n",
      " 78  Num of Carriers                     0 non-null      float64\n",
      " 79  Num of Lines                        0 non-null      float64\n",
      " 80  Non-Producing                       0 non-null      float64\n",
      " 81  Insurance Years of Experience       0 non-null      float64\n",
      "dtypes: float64(19), int64(6), object(57)\n",
      "memory usage: 6.3+ MB\n"
     ]
    }
   ],
   "source": [
    "df.info()"
   ]
  },
  {
   "cell_type": "code",
   "execution_count": null,
   "metadata": {},
   "outputs": [],
   "source": []
  }
 ],
 "metadata": {
  "kernelspec": {
   "display_name": "AssetLink",
   "language": "python",
   "name": "python3"
  },
  "language_info": {
   "codemirror_mode": {
    "name": "ipython",
    "version": 3
   },
   "file_extension": ".py",
   "mimetype": "text/x-python",
   "name": "python",
   "nbconvert_exporter": "python",
   "pygments_lexer": "ipython3",
   "version": "3.11.9"
  }
 },
 "nbformat": 4,
 "nbformat_minor": 2
}
